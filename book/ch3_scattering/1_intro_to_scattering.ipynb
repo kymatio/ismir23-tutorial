{
 "cells": [
  {
   "cell_type": "markdown",
   "metadata": {},
   "source": [
    "# Notebook I: Introduction to Wavelets & Scattering"
   ]
  }
 ],
 "metadata": {
  "language_info": {
   "name": "python"
  }
 },
 "nbformat": 4,
 "nbformat_minor": 2
}
